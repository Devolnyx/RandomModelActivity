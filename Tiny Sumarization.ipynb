{
 "cells": [
  {
   "cell_type": "code",
   "execution_count": 77,
   "id": "9905bd30-49fc-4355-aaf3-df3501374146",
   "metadata": {},
   "outputs": [],
   "source": [
    "# Load model directly\n",
    "from transformers import AutoTokenizer, AutoModelForSeq2SeqLM\n",
    "\n",
    "checkpoint = \"google/t5-efficient-tiny\"\n",
    "checkpoint = \"shorecode/t5-efficient-tiny-summarizer-general-purpose\"\n",
    "\n",
    "tokenizer = AutoTokenizer.from_pretrained(checkpoint)\n",
    "model = AutoModelForSeq2SeqLM.from_pretrained(checkpoint)"
   ]
  },
  {
   "cell_type": "code",
   "execution_count": 2,
   "id": "c6d73437-c384-439d-b231-806ff820174a",
   "metadata": {
    "scrolled": true
   },
   "outputs": [],
   "source": [
    "import pandas as pd\n",
    "df = pd.read_excel('jobs_w_skills.xlsx')"
   ]
  },
  {
   "cell_type": "code",
   "execution_count": 4,
   "id": "1c8734ed-15d2-4394-a5f7-c90ecb039e60",
   "metadata": {},
   "outputs": [],
   "source": [
    "text = df.description.iloc[0]"
   ]
  },
  {
   "cell_type": "code",
   "execution_count": 3,
   "id": "3e4fcd03-15df-4545-9771-9ce06a634f52",
   "metadata": {
    "scrolled": true
   },
   "outputs": [
    {
     "name": "stdout",
     "output_type": "stream",
     "text": [
      "DatasetDict({\n",
      "    train: Dataset({\n",
      "        features: ['description', 'best_fit', '__index_level_0__'],\n",
      "        num_rows: 50\n",
      "    })\n",
      "    validation: Dataset({\n",
      "        features: ['description', 'best_fit', '__index_level_0__'],\n",
      "        num_rows: 50\n",
      "    })\n",
      "})\n"
     ]
    }
   ],
   "source": [
    "import pandas as pd\n",
    "import datasets\n",
    "from datasets import Dataset, DatasetDict\n",
    "\n",
    "\n",
    "tdf = df[['description', 'best_fit']].iloc[:900].sample(50)\n",
    "vdf = df[['description', 'best_fit']].iloc[900:].sample(50)\n",
    "tds = Dataset.from_pandas(tdf)\n",
    "vds = Dataset.from_pandas(vdf)\n",
    "\n",
    "\n",
    "ds = DatasetDict()\n",
    "\n",
    "ds['train'] = tds\n",
    "ds['validation'] = vds\n",
    "\n",
    "print(ds)"
   ]
  },
  {
   "cell_type": "code",
   "execution_count": 10,
   "id": "55fb5ca9-4235-4a50-8f92-b7778ec5b004",
   "metadata": {},
   "outputs": [],
   "source": [
    "prefix = \"summarize: \"\n",
    "\n",
    "\n",
    "def preprocess_function(examples):\n",
    "    inputs = [prefix + doc for doc in examples[\"description\"]]\n",
    "    model_inputs = tokenizer(inputs, max_length=1024, truncation=True)\n",
    "\n",
    "    labels = tokenizer(text_target=examples[\"best_fit\"], max_length=128, truncation=True)\n",
    "\n",
    "    model_inputs[\"labels\"] = labels[\"input_ids\"]\n",
    "    return model_inputs"
   ]
  },
  {
   "cell_type": "code",
   "execution_count": 5,
   "id": "b1f5fb1b-4a55-45ec-9ecf-65f23e55aadb",
   "metadata": {},
   "outputs": [
    {
     "data": {
      "application/vnd.jupyter.widget-view+json": {
       "model_id": "b94e638605054f72868b9e4052697fbf",
       "version_major": 2,
       "version_minor": 0
      },
      "text/plain": [
       "Map:   0%|          | 0/50 [00:00<?, ? examples/s]"
      ]
     },
     "metadata": {},
     "output_type": "display_data"
    },
    {
     "data": {
      "application/vnd.jupyter.widget-view+json": {
       "model_id": "3009eef47840493789a2139864cb761a",
       "version_major": 2,
       "version_minor": 0
      },
      "text/plain": [
       "Map:   0%|          | 0/50 [00:00<?, ? examples/s]"
      ]
     },
     "metadata": {},
     "output_type": "display_data"
    }
   ],
   "source": [
    "tokenized_dataset = ds.map(preprocess_function, batched=True)"
   ]
  },
  {
   "cell_type": "code",
   "execution_count": 6,
   "id": "bd3c5aad-e529-4ee5-b8d3-7fa4b9462e95",
   "metadata": {},
   "outputs": [],
   "source": [
    "from transformers import DataCollatorForSeq2Seq\n",
    "\n",
    "data_collator = DataCollatorForSeq2Seq(tokenizer=tokenizer, model=checkpoint)"
   ]
  },
  {
   "cell_type": "code",
   "execution_count": 7,
   "id": "84cdced9-89b2-47cc-b4fc-8c08bf4c3915",
   "metadata": {},
   "outputs": [],
   "source": [
    "import evaluate\n",
    "\n",
    "rouge = evaluate.load(\"rouge\")"
   ]
  },
  {
   "cell_type": "code",
   "execution_count": 11,
   "id": "acedd02a-d09e-4039-a57d-58aef5162747",
   "metadata": {},
   "outputs": [],
   "source": [
    "import numpy as np\n",
    "\n",
    "def compute_metrics(eval_pred):\n",
    "    predictions, labels = eval_pred\n",
    "    predictions = np.where(predictions != -100, predictions, tokenizer.pad_token_id)\n",
    "    decoded_preds = tokenizer.batch_decode(predictions, skip_special_tokens=True)\n",
    "    labels = np.where(labels != -100, labels, tokenizer.pad_token_id)\n",
    "    decoded_labels = tokenizer.batch_decode(labels, skip_special_tokens=True)\n",
    "\n",
    "    result = rouge.compute(predictions=decoded_preds, references=decoded_labels, use_stemmer=True)\n",
    "\n",
    "    prediction_lens = [np.count_nonzero(pred != tokenizer.pad_token_id) for pred in predictions]\n",
    "    result[\"gen_len\"] = np.mean(prediction_lens)\n",
    "\n",
    "    return {k: round(v, 4) for k, v in result.items()}"
   ]
  },
  {
   "cell_type": "code",
   "execution_count": 12,
   "id": "d0570dad-508f-4db6-a2c0-5ce6c410d010",
   "metadata": {},
   "outputs": [],
   "source": [
    "from transformers import AutoModelForSeq2SeqLM, Seq2SeqTrainingArguments, Seq2SeqTrainer\n",
    "\n",
    "model = AutoModelForSeq2SeqLM.from_pretrained(checkpoint)"
   ]
  },
  {
   "cell_type": "code",
   "execution_count": null,
   "id": "835dccf4-9966-47ee-be22-f8bab5ab2a6e",
   "metadata": {
    "scrolled": true
   },
   "outputs": [
    {
     "name": "stderr",
     "output_type": "stream",
     "text": [
      "/Users/vyacheslav/PycharmProjects/NoiseReduction/.venv/lib/python3.11/site-packages/transformers/training_args.py:1609: FutureWarning: using `no_cuda` is deprecated and will be removed in version 5.0 of 🤗 Transformers. Use `use_cpu` instead\n",
      "  warnings.warn(\n",
      "Passing a tuple of `past_key_values` is deprecated and will be removed in Transformers v4.48.0. You should pass an instance of `EncoderDecoderCache` instead, e.g. `past_key_values=EncoderDecoderCache.from_legacy_cache(past_key_values)`.\n"
     ]
    },
    {
     "data": {
      "text/html": [
       "\n",
       "    <div>\n",
       "      \n",
       "      <progress value='87' max='452' style='width:300px; height:20px; vertical-align: middle;'></progress>\n",
       "      [ 87/452 09:01 < 38:46, 0.16 it/s, Epoch 0.76/4]\n",
       "    </div>\n",
       "    <table border=\"1\" class=\"dataframe\">\n",
       "  <thead>\n",
       " <tr style=\"text-align: left;\">\n",
       "      <th>Epoch</th>\n",
       "      <th>Training Loss</th>\n",
       "      <th>Validation Loss</th>\n",
       "    </tr>\n",
       "  </thead>\n",
       "  <tbody>\n",
       "  </tbody>\n",
       "</table><p>"
      ],
      "text/plain": [
       "<IPython.core.display.HTML object>"
      ]
     },
     "metadata": {},
     "output_type": "display_data"
    }
   ],
   "source": [
    "training_args = Seq2SeqTrainingArguments(\n",
    "    output_dir=\"my_awesome_model\",\n",
    "    eval_strategy=\"epoch\",\n",
    "    learning_rate=2e-5,\n",
    "    per_device_train_batch_size=8,\n",
    "    per_device_eval_batch_size=4,\n",
    "    weight_decay=0.01,\n",
    "    save_total_limit=3,\n",
    "    num_train_epochs=4,\n",
    "    predict_with_generate=True,\n",
    "    fp16=False, #change to bf16=True for XPU\n",
    "    push_to_hub=False,\n",
    "    no_cuda=True,\n",
    ")\n",
    "\n",
    "trainer = Seq2SeqTrainer(\n",
    "    model=model,\n",
    "    args=training_args,\n",
    "    train_dataset=tokenized_dataset[\"train\"],\n",
    "    eval_dataset=tokenized_dataset[\"validation\"],\n",
    "    processing_class=tokenizer,\n",
    "    data_collator=data_collator,\n",
    "    compute_metrics=compute_metrics,\n",
    ")\n",
    "\n",
    "trainer.train()"
   ]
  },
  {
   "cell_type": "markdown",
   "id": "9269e953-cba9-4b6e-924f-21cbef2bd16e",
   "metadata": {},
   "source": [
    "# Inference"
   ]
  },
  {
   "cell_type": "code",
   "execution_count": null,
   "id": "11502981-2ca5-4381-924d-85b8f407ad3a",
   "metadata": {},
   "outputs": [],
   "source": []
  },
  {
   "cell_type": "code",
   "execution_count": null,
   "id": "f823b63e-56a8-46c7-844d-adc6ea658dc1",
   "metadata": {},
   "outputs": [],
   "source": []
  },
  {
   "cell_type": "code",
   "execution_count": 70,
   "id": "c1d7f975-4f1e-420d-bf0b-85110ebc9f11",
   "metadata": {},
   "outputs": [],
   "source": [
    "from transformers import AutoModelForSeq2SeqLM, Seq2SeqTrainingArguments, Seq2SeqTrainer\n",
    "\n",
    "model = AutoModelForSeq2SeqLM.from_pretrained(checkpoint)"
   ]
  },
  {
   "cell_type": "code",
   "execution_count": 78,
   "id": "7a7f624b-9622-405d-8017-c9b237268715",
   "metadata": {},
   "outputs": [],
   "source": [
    "prefix = \"summarize: \"\n",
    "\n",
    "\n",
    "text = prefix + df.description.iloc[5]"
   ]
  },
  {
   "cell_type": "code",
   "execution_count": 79,
   "id": "744850c4-3f3f-4bbc-9c18-dd0cff0eb8b0",
   "metadata": {},
   "outputs": [],
   "source": [
    "inputs = tokenizer(text, return_tensors=\"pt\").input_ids"
   ]
  },
  {
   "cell_type": "code",
   "execution_count": 84,
   "id": "ac3868a6-9b9e-4421-b2d1-5af467ac0319",
   "metadata": {},
   "outputs": [],
   "source": [
    "outputs = model.generate(inputs, max_new_tokens=300, do_sample=False)"
   ]
  },
  {
   "cell_type": "code",
   "execution_count": null,
   "id": "e17beb0d-f049-4064-bc49-3613c32dd7ec",
   "metadata": {},
   "outputs": [],
   "source": []
  },
  {
   "cell_type": "code",
   "execution_count": 81,
   "id": "56da11c3-b004-45be-93cf-bacb3f7f533d",
   "metadata": {},
   "outputs": [
    {
     "data": {
      "text/plain": [
       "tensor([[    0,   419,  2244,     3, 18180,  2894,  4901,  5190,  4804,    89,\n",
       "            17,   852,  7539,    12,  1715,     8,   372,    16,  1844,  8491,\n",
       "             6,  4699,     5,  6760,  4280,    19,  1710,    69,  8521, 12262,\n",
       "            11, 16857,     3,   935,   524,   232,  4890,   372,    55,   100,\n",
       "           419,  2244,     3, 18180,  2894,  4901,   613,    56,    36,   294,\n",
       "            13,     3,     9,   372, 16915,     8,  1096,     7,    13,   600,\n",
       "          1367, 10481,     5,   216,    87,     7,    88,    56,    36,   464,\n",
       "          8521,     7,     6,   335,  6218,     3,    18,   489,  4815,     6,\n",
       "           740,     6,     3, 30221,    11,  9873, 29741,    11, 14613,     5,\n",
       "         10476,    28,     3,     9,  2458,    16,     3,   935,   524,   232,\n",
       "          4890]])"
      ]
     },
     "execution_count": 81,
     "metadata": {},
     "output_type": "execute_result"
    }
   ],
   "source": [
    "outputs"
   ]
  },
  {
   "cell_type": "code",
   "execution_count": 85,
   "id": "63a1e12c-12ea-4f7f-b60f-b5f213bda112",
   "metadata": {},
   "outputs": [
    {
     "data": {
      "text/plain": [
       "'Reset Merchandiser Night Shift Now hiring to join the team in Post Falls, ID. SPAR is growing our overnight reset and remodel merchandising team! This Reset Merchandiser job will be part of a team remodeling the insides of big box retailers. He/she will be working overnights, 10PM - 7AM, building, assembling and installing shelving and fixtures. Anyone with a background in merchandising resets or remodels, installer, construction, or general labor, who could be a tool bag, who can be a tool bag,'"
      ]
     },
     "execution_count": 85,
     "metadata": {},
     "output_type": "execute_result"
    }
   ],
   "source": [
    "tokenizer.decode(outputs[0], skip_special_tokens=True)"
   ]
  },
  {
   "cell_type": "code",
   "execution_count": 86,
   "id": "f8cc99e2-9329-45e3-87a4-82c1dccae474",
   "metadata": {},
   "outputs": [
    {
     "data": {
      "text/plain": [
       "'summarize: Reset Merchandiser Night Shift\\n\\nNow hiring to join the team in Post Falls, ID.\\n\\nSPAR is growing our overnight reset and remodel merchandising team! This Reset Merchandiser job will be part of a team remodeling the insides of big box retailers. He/she will be working overnights, 10PM - 7AM, building, assembling and installing shelving and fixtures. Anyone with a background in merchandising resets or remodels, installer, construction, or general labor, this could be a perfect fit for you. The ideal merchandiser is; self-sufficient, highly motivated, knows their way around a tool bag, and have the drive to produce high quality results in a fast paced environment.\\n\\nJoin the best reset/ remodel merchandiser team in the business and APPLY TODAY!\\n\\nProjects include category resets and fixture installation.\\n\\nWhen One Project Ends, Another STARTS\\n\\nWhat We Offer:• Great TEAM\\n• Ongoing project work – long term work\\n• 10PM - 7AM Sunday -Thursday\\n• Competitive pay\\n• DailyPay – work today, get paid tomorrow\\n• Free Enrollment required\\n• Mileage and Drive time reimbursed\\n• Meal per diem, tolls and preapproved out of pocket expenses. \\n• Hotel will be reserved and paid for by SPAR\\n• Double occupancy required\\n• Career advancement opportunities\\n\\n\\nWhat You’ll Do:\\n• Work overnights remodeling big box retail stores\\n• Building and assembling retail store shelving fixtures\\n• Work with Plan-O-Grams on all items tagged and approved by store management\\n• Update Signage, Shelf Conditions and Schematics Completion\\n• Engage in considerable physical activity, ability to lift and carry up to 50\\n\\n\\nQualifications:\\n• Ability to stand a minimum shift of 8 hours (10PM - 7AM)\\n• Must be able to take direction regarding tagging, rotating and placing products on shelf\\n• Planogram experience (preferred)\\n• Ability/Willingness to work Overnight shift\\n• Knowledge/ability to use basic tools necessary for the job\\n• Ability to work in Team environment\\n• Reliable transportation, valid driver’s license, \\n• Personal cell is required and valid email address. \\n• Professional appearance and demeanor\\n• Steel toed footwear is required to be worn on job site\\n\\n\\nSPAR Marketing Force works with national retail stores managing their new store set ups or full store remodels\\n\\nSPAR provides Equal Employment Opportunities (EEO) to all employees and applicants for employment without regard to race, color, religion, sex, national origin, age, disability or genetics. In addition to federal law requirements, SPAR complies with applicable state and local laws governing nondiscrimination in employment in every location in which the company has facilities.\\n\\nThis policy applies to all terms and conditions of employment, including recruiting, hiring, placement, promotion, termination, layoff, recall, transfer, leaves of absence, compensation and training. SPAR expressly prohibits any form of workplace harassment based on race, color, religion, gender, sexual orientation, gender identity or expression, national origin, age, genetic information, disability, or veteran status. Improper interference with the ability of SPAR’s employees to perform their job duties may result in discipline up to and including discharge'"
      ]
     },
     "execution_count": 86,
     "metadata": {},
     "output_type": "execute_result"
    }
   ],
   "source": [
    "text"
   ]
  },
  {
   "cell_type": "code",
   "execution_count": null,
   "id": "0605087a-55bc-4893-afe4-b97a64c6c0f0",
   "metadata": {},
   "outputs": [],
   "source": []
  }
 ],
 "metadata": {
  "kernelspec": {
   "display_name": "Python 3 (ipykernel)",
   "language": "python",
   "name": "python3"
  },
  "language_info": {
   "codemirror_mode": {
    "name": "ipython",
    "version": 3
   },
   "file_extension": ".py",
   "mimetype": "text/x-python",
   "name": "python",
   "nbconvert_exporter": "python",
   "pygments_lexer": "ipython3",
   "version": "3.11.9"
  }
 },
 "nbformat": 4,
 "nbformat_minor": 5
}
